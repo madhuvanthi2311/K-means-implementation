{
 "cells": [
  {
   "cell_type": "markdown",
   "metadata": {},
   "source": [
    "Implementation of K means from scratch"
   ]
  },
  {
   "cell_type": "code",
   "execution_count": null,
   "metadata": {
    "collapsed": true
   },
   "outputs": [],
   "source": [
    "# K Means function implementation\n",
    "def my_kmeans(X,num_clusters):\n",
    "    # Initialization of centroids\n",
    "    num_pts = np.shape(X)[0]\n",
    "    r = np.random.permutation(num_pts)[:num_clusters]\n",
    "    C = X[r,:]\n",
    "    max_iters = 100\n",
    "    \n",
    "    # k-means loop\n",
    "    assignments = []                # container for assignments at each iteration\n",
    "    for i in range(max_iters):\n",
    "        ### loop over data and assign to centroids \n",
    "        assignments = []            # container for assignments at each iteration\n",
    "        for p in range(num_pts):  \n",
    "            # compute difference between point and current centroids\n",
    "            diffs = []\n",
    "            for k in range(num_clusters):\n",
    "                temp = sum((s - t)**2 for s,t in zip(X[p,:],C[k,:]))\n",
    "                diffs.append(temp)\n",
    "                \n",
    "            # compute assignment (closest centroid)\n",
    "            ind = np.argmin(diffs)\n",
    "\n",
    "            # store assignment\n",
    "            assignments.append(ind)\n",
    "        assignments = np.asarray(assignments)\n",
    "\n",
    "        # update centroid location based on current points in its cluster\n",
    "        new_C = []\n",
    "        for k in range(num_clusters):\n",
    "            # add up all points in this cluster\n",
    "            ind = np.argwhere(assignments == k)\n",
    "            ind = [s[0] for s in ind]\n",
    "            \n",
    "            # update centroid\n",
    "            new_centroid = C[k,:]\n",
    "            if len(ind) > 0:\n",
    "                # compute new centroid\n",
    "                new_centroid = 0\n",
    "                for s in ind:\n",
    "                    new_centroid += X[s,:]\n",
    "                new_centroid = new_centroid / float(len(ind))\n",
    "                \n",
    "            # update centroid   \n",
    "            new_C.append(new_centroid)\n",
    "            \n",
    "        # update centroid array and record error\n",
    "        new_C = np.asarray(new_C)\n",
    "        error =  (np.linalg.norm(C - new_C,'fro'))\n",
    "        if error < 10**-8:\n",
    "            break\n",
    "        C = new_C\n",
    "\n",
    "    # return centroids and assignments\n",
    "    print('The algorithm took a total of ' + str(i) + ' iterations to complete')\n",
    "    centroids = C\n",
    "    return centroids,assignments"
   ]
  }
 ],
 "metadata": {
  "kernelspec": {
   "display_name": "Python 2",
   "language": "python",
   "name": "python2"
  },
  "language_info": {
   "codemirror_mode": {
    "name": "ipython",
    "version": 2
   },
   "file_extension": ".py",
   "mimetype": "text/x-python",
   "name": "python",
   "nbconvert_exporter": "python",
   "pygments_lexer": "ipython2",
   "version": "2.7.14"
  }
 },
 "nbformat": 4,
 "nbformat_minor": 2
}
